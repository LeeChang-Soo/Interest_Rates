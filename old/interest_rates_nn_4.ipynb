{
 "cells": [
  {
   "cell_type": "code",
   "execution_count": 1,
   "metadata": {
    "collapsed": false
   },
   "outputs": [],
   "source": [
    "# import packages\n",
    "%matplotlib inline\n",
    "import warnings\n",
    "import numpy as np\n",
    "import pandas as pd\n",
    "from numpy import random\n",
    "from scipy import stats\n",
    "import matplotlib.pyplot as plt\n",
    "import seaborn as sns\n",
    "import Quandl"
   ]
  },
  {
   "cell_type": "markdown",
   "metadata": {},
   "source": [
    "---"
   ]
  },
  {
   "cell_type": "markdown",
   "metadata": {},
   "source": [
    "# *U.S. Treasury Bills:*\n",
    "## Predicting 12-Month Rates, using 30 day windows of 3-Month and 6-Month Rates as input"
   ]
  },
  {
   "cell_type": "markdown",
   "metadata": {},
   "source": [
    "---"
   ]
  },
  {
   "cell_type": "markdown",
   "metadata": {},
   "source": [
    "## Data Wrangling"
   ]
  },
  {
   "cell_type": "code",
   "execution_count": 2,
   "metadata": {
    "collapsed": true
   },
   "outputs": [],
   "source": [
    "# set date range\n",
    "start_date = \"1982-01-04\"\n",
    "end_date = \"2016-03-11\""
   ]
  },
  {
   "cell_type": "code",
   "execution_count": 3,
   "metadata": {
    "collapsed": false
   },
   "outputs": [],
   "source": [
    "# read in Fed Funds Rate, 3-Month, 6-Month, 12-Month Treasury Bill data from Quandl\n",
    "three_month = Quandl.get(\"FRED/DGS3MO\", trim_start=start_date, trim_end=end_date)\n",
    "six_month = Quandl.get(\"FRED/DGS6MO\", trim_start=start_date, trim_end=end_date)\n",
    "twelve_month = Quandl.get(\"FRED/DGS1\", trim_start=start_date, trim_end=end_date)"
   ]
  },
  {
   "cell_type": "code",
   "execution_count": 4,
   "metadata": {
    "collapsed": false
   },
   "outputs": [],
   "source": [
    "# reset indices \n",
    "three_month.reset_index(level=0, inplace=True)\n",
    "six_month.reset_index(level=0, inplace=True)\n",
    "twelve_month.reset_index(level=0, inplace=True)"
   ]
  },
  {
   "cell_type": "code",
   "execution_count": 5,
   "metadata": {
    "collapsed": true
   },
   "outputs": [],
   "source": [
    "# normalize data to heave mean = 0, std = 1\n",
    "three_month['normal'] = (three_month['VALUE'] - three_month['VALUE'].mean(axis=0)) / three_month['VALUE'].std(axis=0, ddof=1)\n",
    "six_month['normal'] = (six_month['VALUE'] - six_month['VALUE'].mean(axis=0)) / six_month['VALUE'].std(axis=0, ddof=1)\n",
    "twelve_month['normal'] = (twelve_month['VALUE'] - twelve_month['VALUE'].mean(axis=0)) / twelve_month['VALUE'].std(axis=0, ddof=1)"
   ]
  },
  {
   "cell_type": "code",
   "execution_count": 6,
   "metadata": {
    "collapsed": false
   },
   "outputs": [],
   "source": [
    "# merge into single DataFrame\n",
    "data = three_month.merge(six_month, on = 'DATE')\n",
    "data = data.merge(twelve_month, on = 'DATE')"
   ]
  },
  {
   "cell_type": "code",
   "execution_count": 7,
   "metadata": {
    "collapsed": true
   },
   "outputs": [],
   "source": [
    "# rename columns\n",
    "data.columns = ['date', '3_rate', '3_norm', '6_rate', '6_norm', '12_rate', '12_norm']"
   ]
  },
  {
   "cell_type": "code",
   "execution_count": 8,
   "metadata": {
    "collapsed": false
   },
   "outputs": [
    {
     "data": {
      "text/html": [
       "<div>\n",
       "<table border=\"1\" class=\"dataframe\">\n",
       "  <thead>\n",
       "    <tr style=\"text-align: right;\">\n",
       "      <th></th>\n",
       "      <th>date</th>\n",
       "      <th>3_rate</th>\n",
       "      <th>3_norm</th>\n",
       "      <th>6_rate</th>\n",
       "      <th>6_norm</th>\n",
       "      <th>12_rate</th>\n",
       "      <th>12_norm</th>\n",
       "    </tr>\n",
       "  </thead>\n",
       "  <tbody>\n",
       "    <tr>\n",
       "      <th>0</th>\n",
       "      <td>1982-01-04</td>\n",
       "      <td>11.87</td>\n",
       "      <td>2.437347</td>\n",
       "      <td>13.16</td>\n",
       "      <td>2.697099</td>\n",
       "      <td>13.56</td>\n",
       "      <td>2.716456</td>\n",
       "    </tr>\n",
       "    <tr>\n",
       "      <th>1</th>\n",
       "      <td>1982-01-05</td>\n",
       "      <td>12.20</td>\n",
       "      <td>2.541979</td>\n",
       "      <td>13.41</td>\n",
       "      <td>2.773836</td>\n",
       "      <td>13.83</td>\n",
       "      <td>2.797861</td>\n",
       "    </tr>\n",
       "    <tr>\n",
       "      <th>2</th>\n",
       "      <td>1982-01-06</td>\n",
       "      <td>12.16</td>\n",
       "      <td>2.529296</td>\n",
       "      <td>13.46</td>\n",
       "      <td>2.789183</td>\n",
       "      <td>13.91</td>\n",
       "      <td>2.821981</td>\n",
       "    </tr>\n",
       "    <tr>\n",
       "      <th>3</th>\n",
       "      <td>1982-01-07</td>\n",
       "      <td>12.17</td>\n",
       "      <td>2.532467</td>\n",
       "      <td>13.43</td>\n",
       "      <td>2.779975</td>\n",
       "      <td>13.93</td>\n",
       "      <td>2.828011</td>\n",
       "    </tr>\n",
       "    <tr>\n",
       "      <th>4</th>\n",
       "      <td>1982-01-08</td>\n",
       "      <td>11.98</td>\n",
       "      <td>2.472224</td>\n",
       "      <td>13.35</td>\n",
       "      <td>2.755419</td>\n",
       "      <td>13.75</td>\n",
       "      <td>2.773741</td>\n",
       "    </tr>\n",
       "    <tr>\n",
       "      <th>5</th>\n",
       "      <td>1982-01-11</td>\n",
       "      <td>12.49</td>\n",
       "      <td>2.633928</td>\n",
       "      <td>13.84</td>\n",
       "      <td>2.905824</td>\n",
       "      <td>14.31</td>\n",
       "      <td>2.942580</td>\n",
       "    </tr>\n",
       "    <tr>\n",
       "      <th>6</th>\n",
       "      <td>1982-01-12</td>\n",
       "      <td>12.52</td>\n",
       "      <td>2.643440</td>\n",
       "      <td>13.74</td>\n",
       "      <td>2.875129</td>\n",
       "      <td>14.18</td>\n",
       "      <td>2.903385</td>\n",
       "    </tr>\n",
       "    <tr>\n",
       "      <th>7</th>\n",
       "      <td>1982-01-13</td>\n",
       "      <td>12.70</td>\n",
       "      <td>2.700512</td>\n",
       "      <td>13.97</td>\n",
       "      <td>2.945727</td>\n",
       "      <td>14.51</td>\n",
       "      <td>3.002880</td>\n",
       "    </tr>\n",
       "    <tr>\n",
       "      <th>8</th>\n",
       "      <td>1982-01-14</td>\n",
       "      <td>13.17</td>\n",
       "      <td>2.849533</td>\n",
       "      <td>13.91</td>\n",
       "      <td>2.927310</td>\n",
       "      <td>14.41</td>\n",
       "      <td>2.972730</td>\n",
       "    </tr>\n",
       "    <tr>\n",
       "      <th>9</th>\n",
       "      <td>1982-01-15</td>\n",
       "      <td>12.74</td>\n",
       "      <td>2.713194</td>\n",
       "      <td>14.01</td>\n",
       "      <td>2.958005</td>\n",
       "      <td>14.53</td>\n",
       "      <td>3.008910</td>\n",
       "    </tr>\n",
       "  </tbody>\n",
       "</table>\n",
       "</div>"
      ],
      "text/plain": [
       "        date  3_rate    3_norm  6_rate    6_norm  12_rate   12_norm\n",
       "0 1982-01-04   11.87  2.437347   13.16  2.697099    13.56  2.716456\n",
       "1 1982-01-05   12.20  2.541979   13.41  2.773836    13.83  2.797861\n",
       "2 1982-01-06   12.16  2.529296   13.46  2.789183    13.91  2.821981\n",
       "3 1982-01-07   12.17  2.532467   13.43  2.779975    13.93  2.828011\n",
       "4 1982-01-08   11.98  2.472224   13.35  2.755419    13.75  2.773741\n",
       "5 1982-01-11   12.49  2.633928   13.84  2.905824    14.31  2.942580\n",
       "6 1982-01-12   12.52  2.643440   13.74  2.875129    14.18  2.903385\n",
       "7 1982-01-13   12.70  2.700512   13.97  2.945727    14.51  3.002880\n",
       "8 1982-01-14   13.17  2.849533   13.91  2.927310    14.41  2.972730\n",
       "9 1982-01-15   12.74  2.713194   14.01  2.958005    14.53  3.008910"
      ]
     },
     "execution_count": 8,
     "metadata": {},
     "output_type": "execute_result"
    }
   ],
   "source": [
    "data.head(10)"
   ]
  },
  {
   "cell_type": "markdown",
   "metadata": {},
   "source": [
    "## Window "
   ]
  },
  {
   "cell_type": "code",
   "execution_count": 9,
   "metadata": {
    "collapsed": false
   },
   "outputs": [],
   "source": [
    "index_count = 0\n",
    "\n",
    "# create first entries of the sampling window\n",
    "window_x = (data[['3_norm', '6_norm']].values[0:30]).reshape((1,60))\n",
    "window_y = (data[['12_norm']].values[0:30]).reshape((1,30))\n",
    "\n",
    "# iterate through the dataframe and append each successive sampling window\n",
    "for i in xrange(30,8550,30):\n",
    "    temp_x = (data[['3_norm', '6_norm']].values[i:i+30]).reshape((1,60))\n",
    "    window_x = np.concatenate((window_x, temp_x))\n",
    "    \n",
    "    temp_y = (data[['12_norm']].values[i:i+30]).reshape((1,30))\n",
    "    window_y = np.concatenate((window_y, temp_y)) \n",
    "\n",
    "    index_count += 1"
   ]
  },
  {
   "cell_type": "code",
   "execution_count": 10,
   "metadata": {
    "collapsed": false
   },
   "outputs": [
    {
     "data": {
      "text/plain": [
       "(285, 60)"
      ]
     },
     "execution_count": 10,
     "metadata": {},
     "output_type": "execute_result"
    }
   ],
   "source": [
    "# print shape of x window\n",
    "window_x.shape"
   ]
  },
  {
   "cell_type": "code",
   "execution_count": 11,
   "metadata": {
    "collapsed": false
   },
   "outputs": [
    {
     "data": {
      "text/plain": [
       "(285, 30)"
      ]
     },
     "execution_count": 11,
     "metadata": {},
     "output_type": "execute_result"
    }
   ],
   "source": [
    "# print shape of y window\n",
    "window_y.shape"
   ]
  },
  {
   "cell_type": "markdown",
   "metadata": {},
   "source": [
    "## Train/Test Split"
   ]
  },
  {
   "cell_type": "code",
   "execution_count": 12,
   "metadata": {
    "collapsed": true
   },
   "outputs": [],
   "source": [
    "# concatenate x's and y's\n",
    "window_x_y = np.concatenate((window_x, window_y), axis=1)"
   ]
  },
  {
   "cell_type": "code",
   "execution_count": 13,
   "metadata": {
    "collapsed": false
   },
   "outputs": [
    {
     "data": {
      "text/plain": [
       "(285, 90)"
      ]
     },
     "execution_count": 13,
     "metadata": {},
     "output_type": "execute_result"
    }
   ],
   "source": [
    "# print final window shape\n",
    "window_x_y.shape"
   ]
  },
  {
   "cell_type": "code",
   "execution_count": 14,
   "metadata": {
    "collapsed": false
   },
   "outputs": [
    {
     "data": {
      "text/plain": [
       "array([[-1.30720101, -1.29015773, -1.31037167, ..., -1.26030584,\n",
       "        -1.2482459 , -1.25729085],\n",
       "       [ 0.54763431,  0.54539233,  0.54129299, ...,  0.53360894,\n",
       "         0.51551904,  0.48536921],\n",
       "       [ 1.19444868,  1.04878733,  1.16591275, ...,  1.05520096,\n",
       "         1.04012605,  1.03409608],\n",
       "       ..., \n",
       "       [ 0.53812233,  0.54232285,  0.53812233, ...,  0.54868385,\n",
       "         0.54566887,  0.54868385],\n",
       "       [ 0.31300557,  0.27220846,  0.31617623, ...,  0.28939533,\n",
       "         0.32557512,  0.31653017],\n",
       "       [ 0.22105647,  0.16784608,  0.18934988, ..., -0.18998694,\n",
       "        -0.17189704, -0.15983711]])"
      ]
     },
     "execution_count": 14,
     "metadata": {},
     "output_type": "execute_result"
    }
   ],
   "source": [
    "# set random seed\n",
    "np.random.seed(3232016)\n",
    "\n",
    "# randomize the order of the window\n",
    "np.random.shuffle(window_x_y)\n",
    "window_x_y"
   ]
  },
  {
   "cell_type": "code",
   "execution_count": 15,
   "metadata": {
    "collapsed": false
   },
   "outputs": [
    {
     "data": {
      "text/plain": [
       "190"
      ]
     },
     "execution_count": 15,
     "metadata": {},
     "output_type": "execute_result"
    }
   ],
   "source": [
    "# determine length for training set\n",
    "train_length = (len(window_x_y)/3)*2\n",
    "train_length"
   ]
  },
  {
   "cell_type": "code",
   "execution_count": 16,
   "metadata": {
    "collapsed": true
   },
   "outputs": [],
   "source": [
    "# allocate train data\n",
    "train_data = window_x_y[:train_length,:]\n",
    "\n",
    "# allocate test data\n",
    "test_data = window_x_y[train_length:,:]"
   ]
  },
  {
   "cell_type": "code",
   "execution_count": 17,
   "metadata": {
    "collapsed": false
   },
   "outputs": [
    {
     "data": {
      "text/plain": [
       "(190, 90)"
      ]
     },
     "execution_count": 17,
     "metadata": {},
     "output_type": "execute_result"
    }
   ],
   "source": [
    "# print train data shape\n",
    "train_data.shape"
   ]
  },
  {
   "cell_type": "code",
   "execution_count": 18,
   "metadata": {
    "collapsed": false
   },
   "outputs": [
    {
     "data": {
      "text/plain": [
       "(95, 90)"
      ]
     },
     "execution_count": 18,
     "metadata": {},
     "output_type": "execute_result"
    }
   ],
   "source": [
    "# print test data shape\n",
    "test_data.shape"
   ]
  },
  {
   "cell_type": "code",
   "execution_count": 19,
   "metadata": {
    "collapsed": true
   },
   "outputs": [],
   "source": [
    "# allocate x and y of train data\n",
    "x_train = train_data[:,:60]\n",
    "y_train = train_data[:,60:]\n",
    "\n",
    "# allocate x and y of test data\n",
    "x_test = test_data[:,:60]\n",
    "y_test = test_data[:,60:]"
   ]
  },
  {
   "cell_type": "markdown",
   "metadata": {},
   "source": [
    "## Neural Network"
   ]
  },
  {
   "cell_type": "code",
   "execution_count": 20,
   "metadata": {
    "collapsed": false,
    "scrolled": false
   },
   "outputs": [
    {
     "name": "stdout",
     "output_type": "stream",
     "text": [
      "epoch: 20000  cost: 0.003597\n",
      "epoch: 40000  cost: 0.002534\n",
      "epoch: 60000  cost: 0.001979\n",
      "epoch: 80000  cost: 0.001719\n",
      "epoch: 100000  cost: 0.001595\n",
      "epoch: 120000  cost: 0.001527\n",
      "epoch: 140000  cost: 0.001483\n",
      "epoch: 160000  cost: 0.001450\n",
      "epoch: 180000  cost: 0.001423\n",
      "epoch: 200000  cost: 0.001401\n"
     ]
    }
   ],
   "source": [
    "from function_approximator import FunctionApproximator\n",
    "\n",
    "# set random seed\n",
    "np.random.seed(3232016)\n",
    "\n",
    "# define the function approximator\n",
    "fa = FunctionApproximator(n_in=60, n_out=30, n_hidden=5)\n",
    "\n",
    "# train the model\n",
    "fa.train(x_train, y_train, learning_rate=0.05, n_epochs=200000, report_frequency=20000)"
   ]
  },
  {
   "cell_type": "code",
   "execution_count": 21,
   "metadata": {
    "collapsed": false
   },
   "outputs": [
    {
     "name": "stdout",
     "output_type": "stream",
     "text": [
      "[ 0.00605697  0.0043258   0.00373704  0.00349933  0.00346318  0.00392558\n",
      "  0.00662401  0.00741555  0.00828088  0.0101643   0.00771414  0.00759828\n",
      "  0.00728794  0.00722443  0.00531116  0.0046568   0.00483306  0.00421664\n",
      "  0.00490874  0.00452123  0.00394839  0.00349598  0.00364945  0.00260981\n",
      "  0.00293062  0.00319942  0.00290331  0.00323955  0.00384849  0.00429465]\n"
     ]
    }
   ],
   "source": [
    "# print mean squared error of test set\n",
    "y_bar = fa.get_y_pred(x_test)\n",
    "print (((y_test - y_bar) ** 2).mean(axis=0))"
   ]
  },
  {
   "cell_type": "code",
   "execution_count": 22,
   "metadata": {
    "collapsed": false
   },
   "outputs": [],
   "source": [
    "# reshape for plotting purposes\n",
    "y_test_plot = y_test.reshape(2850,1)\n",
    "y_bar_plot = y_bar.reshape(2850,1)"
   ]
  },
  {
   "cell_type": "markdown",
   "metadata": {},
   "source": [
    "## Plot"
   ]
  },
  {
   "cell_type": "code",
   "execution_count": 23,
   "metadata": {
    "collapsed": false
   },
   "outputs": [
    {
     "data": {
      "text/plain": [
       "<matplotlib.text.Text at 0x10c105390>"
      ]
     },
     "execution_count": 23,
     "metadata": {},
     "output_type": "execute_result"
    },
    {
     "data": {
      "image/png": "[encoded data removed]",
      "text/plain": [
       "<matplotlib.figure.Figure at 0x10acd9850>"
      ]
     },
     "metadata": {},
     "output_type": "display_data"
    }
   ],
   "source": [
    "# plot predicted vs actual\n",
    "fig = plt.figure(figsize=(20,10))\n",
    "plt.scatter(y_test_plot , y_bar_plot, color='#00A1F1', edgecolors='white')\n",
    "plt.plot( [np.min(y_test_plot), np.max(y_test_plot)], [np.min(y_test_plot),np.max(y_test_plot)], linewidth=2, color='#F65314')\n",
    "plt.xlabel('Predicted Values (US)')\n",
    "plt.ylabel('Actual Values (US)')\n",
    "plt.title('Comparing Predicted vs Actual Values (US)')"
   ]
  },
  {
   "cell_type": "markdown",
   "metadata": {},
   "source": [
    "---"
   ]
  },
  {
   "cell_type": "markdown",
   "metadata": {},
   "source": [
    "# *UK Eurodollar Rate:*\n",
    "## Using US model to predict 6-month UK Rates, using 30 day windows of 1-month and 3-month UK Rates as input"
   ]
  },
  {
   "cell_type": "markdown",
   "metadata": {},
   "source": [
    "---"
   ]
  },
  {
   "cell_type": "markdown",
   "metadata": {},
   "source": [
    "## Data Wrangling"
   ]
  },
  {
   "cell_type": "code",
   "execution_count": 24,
   "metadata": {
    "collapsed": true
   },
   "outputs": [],
   "source": [
    "# read in 1-Month, 3-Month, 6-Month UK Eurodollar rates\n",
    "uk_one_month = pd.read_csv('DED1.csv')\n",
    "uk_three_month = pd.read_csv('DED3.csv')\n",
    "uk_six_month = pd.read_csv('DED6.csv')"
   ]
  },
  {
   "cell_type": "code",
   "execution_count": 25,
   "metadata": {
    "collapsed": false
   },
   "outputs": [],
   "source": [
    "# cut data to have same date range as US data\n",
    "uk_one_month = uk_one_month[2870:]\n",
    "uk_three_month = uk_three_month[2870:]\n",
    "uk_six_month = uk_six_month[2870:]"
   ]
  },
  {
   "cell_type": "code",
   "execution_count": 26,
   "metadata": {
    "collapsed": false,
    "scrolled": false
   },
   "outputs": [],
   "source": [
    "# merge into single DataFrame\n",
    "uk_data = uk_one_month.merge(uk_three_month, on = 'DATE')\n",
    "uk_data = uk_data.merge(uk_six_month, on = 'DATE')"
   ]
  },
  {
   "cell_type": "code",
   "execution_count": 27,
   "metadata": {
    "collapsed": false
   },
   "outputs": [],
   "source": [
    "# rename columns\n",
    "uk_data.columns = ['date', '1_rate', '3_rate', '6_rate']"
   ]
  },
  {
   "cell_type": "code",
   "execution_count": 28,
   "metadata": {
    "collapsed": false
   },
   "outputs": [],
   "source": [
    "# remove blank rows\n",
    "uk_data = uk_data[uk_data['1_rate'] != '.']\n",
    "uk_data = uk_data[uk_data['3_rate'] != '.']\n",
    "uk_data = uk_data[uk_data['6_rate'] != '.']"
   ]
  },
  {
   "cell_type": "code",
   "execution_count": 29,
   "metadata": {
    "collapsed": false
   },
   "outputs": [],
   "source": [
    "# convert to float\n",
    "uk_data['1_rate'] = uk_data['1_rate'].astype(float)\n",
    "uk_data['3_rate'] = uk_data['3_rate'].astype(float)\n",
    "uk_data['6_rate'] = uk_data['6_rate'].astype(float)"
   ]
  },
  {
   "cell_type": "code",
   "execution_count": 30,
   "metadata": {
    "collapsed": false,
    "scrolled": false
   },
   "outputs": [],
   "source": [
    "# normalize data to heave mean = 0, std = 1\n",
    "uk_data['1_norm'] = (uk_data['1_rate'] - uk_data['1_rate'].mean(axis=0)) / uk_data['1_rate'].std(axis=0, ddof=1)\n",
    "uk_data['3_norm'] = (uk_data['3_rate'] - uk_data['3_rate'].mean(axis=0)) / uk_data['3_rate'].std(axis=0, ddof=1)\n",
    "uk_data['6_norm'] = (uk_data['6_rate'] - uk_data['6_rate'].mean(axis=0)) / uk_data['6_rate'].std(axis=0, ddof=1)"
   ]
  },
  {
   "cell_type": "code",
   "execution_count": 31,
   "metadata": {
    "collapsed": false
   },
   "outputs": [],
   "source": [
    "# cut by a number divisible by 30\n",
    "uk_data = uk_data[:8730]"
   ]
  },
  {
   "cell_type": "markdown",
   "metadata": {},
   "source": [
    "## Window"
   ]
  },
  {
   "cell_type": "code",
   "execution_count": 32,
   "metadata": {
    "collapsed": false
   },
   "outputs": [],
   "source": [
    "index_count = 0\n",
    "\n",
    "# create first entries of the sampling window\n",
    "uk_window_x = (uk_data[['1_norm', '3_norm']].values[0:30]).reshape((1,60))\n",
    "uk_window_y = (uk_data[['6_norm']].values[0:30]).reshape((1,30))\n",
    "\n",
    "# iterate through the dataframe and append each successive sampling window\n",
    "for i in xrange(30,8730,30):\n",
    "    uk_temp_x = (uk_data[['1_norm', '3_norm']].values[i:i+30]).reshape((1,60))\n",
    "    uk_window_x = np.concatenate((uk_window_x, uk_temp_x))\n",
    "    \n",
    "    uk_temp_y = (uk_data[['6_norm']].values[i:i+30]).reshape((1,30))\n",
    "    uk_window_y = np.concatenate((uk_window_y, uk_temp_y)) \n",
    "\n",
    "    index_count += 1"
   ]
  },
  {
   "cell_type": "code",
   "execution_count": 33,
   "metadata": {
    "collapsed": false
   },
   "outputs": [
    {
     "data": {
      "text/plain": [
       "(291, 60)"
      ]
     },
     "execution_count": 33,
     "metadata": {},
     "output_type": "execute_result"
    }
   ],
   "source": [
    "# print shape of x window\n",
    "uk_window_x.shape"
   ]
  },
  {
   "cell_type": "code",
   "execution_count": 34,
   "metadata": {
    "collapsed": false
   },
   "outputs": [
    {
     "data": {
      "text/plain": [
       "(291, 30)"
      ]
     },
     "execution_count": 34,
     "metadata": {},
     "output_type": "execute_result"
    }
   ],
   "source": [
    "# print shape of x window\n",
    "uk_window_y.shape"
   ]
  },
  {
   "cell_type": "code",
   "execution_count": 35,
   "metadata": {
    "collapsed": false
   },
   "outputs": [
    {
     "name": "stdout",
     "output_type": "stream",
     "text": [
      "[ 0.00580191  0.0060507   0.00545878  0.00569133  0.00654521  0.00533517\n",
      "  0.00563537  0.00498606  0.00591548  0.00546798  0.00622871  0.00656063\n",
      "  0.00646582  0.00594878  0.00504452  0.00570939  0.00594711  0.00521669\n",
      "  0.00524867  0.00424148  0.00339435  0.00373881  0.00324236  0.00291349\n",
      "  0.00310403  0.00362422  0.00409976  0.00498097  0.00559562  0.0054311 ]\n"
     ]
    }
   ],
   "source": [
    "# print mean squared error of test set\n",
    "uk_y_bar = fa.get_y_pred(uk_window_x)\n",
    "print (((uk_window_y - uk_y_bar) ** 2).mean(axis=0))"
   ]
  },
  {
   "cell_type": "code",
   "execution_count": 36,
   "metadata": {
    "collapsed": true
   },
   "outputs": [],
   "source": [
    "# reshape for plotting purposes\n",
    "uk_y_test_plot = uk_window_y.reshape(8730,1)\n",
    "uk_y_bar_plot = uk_y_bar.reshape(8730,1)"
   ]
  },
  {
   "cell_type": "markdown",
   "metadata": {},
   "source": [
    "## Plot"
   ]
  },
  {
   "cell_type": "code",
   "execution_count": 37,
   "metadata": {
    "collapsed": false
   },
   "outputs": [
    {
     "data": {
      "text/plain": [
       "<matplotlib.text.Text at 0x10b6d7790>"
      ]
     },
     "execution_count": 37,
     "metadata": {},
     "output_type": "execute_result"
    },
    {
     "data": {
      "image/png": "[encoded data removed]",
      "text/plain": [
       "<matplotlib.figure.Figure at 0x10c123c50>"
      ]
     },
     "metadata": {},
     "output_type": "display_data"
    }
   ],
   "source": [
    "# plot predicted vs actual\n",
    "fig = plt.figure(figsize=(20,10))\n",
    "plt.scatter(uk_y_test_plot , uk_y_bar_plot, color='#00A1F1', edgecolors='white')\n",
    "plt.plot( [np.min(uk_y_test_plot), np.max(uk_y_test_plot)], [np.min(uk_y_test_plot),np.max(uk_y_test_plot)], linewidth=2, color='#F65314')\n",
    "plt.xlabel('Predicted Values (UK)')\n",
    "plt.ylabel('Actual Values (UK)')\n",
    "plt.title('Comparing Predicted vs Actual Values (UK)')"
   ]
  },
  {
   "cell_type": "markdown",
   "metadata": {},
   "source": [
    "### It appears that in general, the Neural Network does a pretty good job of fitting UK data. However, at high rates the Neural Network seems to overpredict a little bit. I don't know enough about UK rates vs US rates to explain why, but I suppose its possible that UK rates simply never reach as high levels as US rates historically."
   ]
  }
 ],
 "metadata": {
  "kernelspec": {
   "display_name": "Python 2",
   "language": "python",
   "name": "python2"
  },
  "language_info": {
   "codemirror_mode": {
    "name": "ipython",
    "version": 2
   },
   "file_extension": ".py",
   "mimetype": "text/x-python",
   "name": "python",
   "nbconvert_exporter": "python",
   "pygments_lexer": "ipython2",
   "version": "2.7.11"
  }
 },
 "nbformat": 4,
 "nbformat_minor": 0
}
