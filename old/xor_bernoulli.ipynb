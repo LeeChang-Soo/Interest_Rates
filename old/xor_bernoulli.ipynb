{
 "cells": [
  {
   "cell_type": "code",
   "execution_count": 1,
   "metadata": {
    "collapsed": true
   },
   "outputs": [],
   "source": [
    "# import packages\n",
    "%matplotlib inline\n",
    "import warnings\n",
    "import numpy as np\n",
    "from numpy import random\n",
    "from function_approximator_2 import FunctionApproximator"
   ]
  },
  {
   "cell_type": "code",
   "execution_count": 2,
   "metadata": {
    "collapsed": true
   },
   "outputs": [],
   "source": [
    "data_x = [[0.0, 0.0], [0.0, 1.0], [1.0, 0.0], [1.0, 1.0]]"
   ]
  },
  {
   "cell_type": "code",
   "execution_count": 3,
   "metadata": {
    "collapsed": false
   },
   "outputs": [],
   "source": [
    "data_y = [[0.0], [1.0], [1.0], [0.0]]"
   ]
  },
  {
   "cell_type": "code",
   "execution_count": 4,
   "metadata": {
    "collapsed": false,
    "scrolled": false
   },
   "outputs": [
    {
     "data": {
      "text/plain": [
       "0.5"
      ]
     },
     "execution_count": 4,
     "metadata": {},
     "output_type": "execute_result"
    }
   ],
   "source": [
    "# set random seed\n",
    "np.random.seed(3292016)\n",
    "\n",
    "# define the function approximator\n",
    "fa = FunctionApproximator(n_in=2, n_out=1, n_hidden=2)\n",
    "\n",
    "# initialize \n",
    "fa.initialize(data_x, data_y, learning_rate=0.05)\n",
    "\n",
    "# print mean squared error of test set\n",
    "fa.test(data_x, data_y)"
   ]
  },
  {
   "cell_type": "code",
   "execution_count": 5,
   "metadata": {
    "collapsed": false
   },
   "outputs": [
    {
     "name": "stdout",
     "output_type": "stream",
     "text": [
      "epoch: 64  cost: 0.245433\n",
      "epoch: 128  cost: 0.242849\n",
      "epoch: 192  cost: 0.239373\n",
      "epoch: 256  cost: 0.234192\n",
      "epoch: 320  cost: 0.226591\n",
      "epoch: 384  cost: 0.215981\n",
      "epoch: 448  cost: 0.202297\n",
      "epoch: 512  cost: 0.186618\n",
      "epoch: 576  cost: 0.170589\n",
      "epoch: 640  cost: 0.154113\n",
      "epoch: 704  cost: 0.134135\n",
      "epoch: 768  cost: 0.106219\n",
      "epoch: 832  cost: 0.073315\n",
      "epoch: 896  cost: 0.044500\n",
      "epoch: 960  cost: 0.023577\n"
     ]
    }
   ],
   "source": [
    "# train the model\n",
    "fa.train(n_epochs=1000, report_frequency=64)"
   ]
  },
  {
   "cell_type": "code",
   "execution_count": 6,
   "metadata": {
    "collapsed": false
   },
   "outputs": [
    {
     "data": {
      "text/plain": [
       "array([[ 0.07979066],\n",
       "       [ 0.89622151],\n",
       "       [ 0.89504222],\n",
       "       [ 0.17443527]])"
      ]
     },
     "execution_count": 6,
     "metadata": {},
     "output_type": "execute_result"
    }
   ],
   "source": [
    "# get predictions\n",
    "fa.get_y_pred(data_x)"
   ]
  }
 ],
 "metadata": {
  "kernelspec": {
   "display_name": "Python 2",
   "language": "python",
   "name": "python2"
  },
  "language_info": {
   "codemirror_mode": {
    "name": "ipython",
    "version": 2
   },
   "file_extension": ".py",
   "mimetype": "text/x-python",
   "name": "python",
   "nbconvert_exporter": "python",
   "pygments_lexer": "ipython2",
   "version": "2.7.11"
  }
 },
 "nbformat": 4,
 "nbformat_minor": 0
}
